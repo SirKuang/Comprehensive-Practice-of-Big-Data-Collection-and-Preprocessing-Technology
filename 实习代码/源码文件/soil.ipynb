{
 "cells": [
  {
   "cell_type": "markdown",
   "metadata": {},
   "source": [
    "## 土壤等级"
   ]
  },
  {
   "cell_type": "code",
   "execution_count": 1,
   "metadata": {},
   "outputs": [
    {
     "name": "stdout",
     "output_type": "stream",
     "text": [
      "Requirement already satisfied: openpyxl in /opt/conda/lib/python3.6/site-packages (3.0.10)\r\n",
      "Requirement already satisfied: et-xmlfile in /opt/conda/lib/python3.6/site-packages (from openpyxl) (1.1.0)\r\n"
     ]
    }
   ],
   "source": [
    "%pip install xlwt -q\n",
    "%pip install openpyxl"
   ]
  },
  {
   "cell_type": "code",
   "execution_count": 1,
   "metadata": {},
   "outputs": [],
   "source": [
    "import warnings\n",
    "warnings.filterwarnings(\"ignore\")"
   ]
  },
  {
   "cell_type": "code",
   "execution_count": 13,
   "metadata": {},
   "outputs": [],
   "source": [
    "数据预处理"
   ]
  },
  {
   "cell_type": "code",
   "execution_count": 3,
   "metadata": {},
   "outputs": [
    {
     "data": {
      "text/html": [
       "<div>\n",
       "<style scoped>\n",
       "    .dataframe tbody tr th:only-of-type {\n",
       "        vertical-align: middle;\n",
       "    }\n",
       "\n",
       "    .dataframe tbody tr th {\n",
       "        vertical-align: top;\n",
       "    }\n",
       "\n",
       "    .dataframe thead th {\n",
       "        text-align: right;\n",
       "    }\n",
       "</style>\n",
       "<table border=\"1\" class=\"dataframe\">\n",
       "  <thead>\n",
       "    <tr style=\"text-align: right;\">\n",
       "      <th></th>\n",
       "      <th>土壤养分流失度</th>\n",
       "      <th>土壤污染度</th>\n",
       "      <th>土壤等级</th>\n",
       "    </tr>\n",
       "  </thead>\n",
       "  <tbody>\n",
       "    <tr>\n",
       "      <th>0</th>\n",
       "      <td>0.235</td>\n",
       "      <td>0.486</td>\n",
       "      <td>V</td>\n",
       "    </tr>\n",
       "    <tr>\n",
       "      <th>1</th>\n",
       "      <td>0.040</td>\n",
       "      <td>0.041</td>\n",
       "      <td>II</td>\n",
       "    </tr>\n",
       "    <tr>\n",
       "      <th>2</th>\n",
       "      <td>0.058</td>\n",
       "      <td>0.063</td>\n",
       "      <td>II</td>\n",
       "    </tr>\n",
       "    <tr>\n",
       "      <th>3</th>\n",
       "      <td>0.116</td>\n",
       "      <td>0.126</td>\n",
       "      <td>II</td>\n",
       "    </tr>\n",
       "    <tr>\n",
       "      <th>4</th>\n",
       "      <td>0.056</td>\n",
       "      <td>0.058</td>\n",
       "      <td>II</td>\n",
       "    </tr>\n",
       "    <tr>\n",
       "      <th>...</th>\n",
       "      <td>...</td>\n",
       "      <td>...</td>\n",
       "      <td>...</td>\n",
       "    </tr>\n",
       "    <tr>\n",
       "      <th>307</th>\n",
       "      <td>0.041</td>\n",
       "      <td>0.044</td>\n",
       "      <td>I</td>\n",
       "    </tr>\n",
       "    <tr>\n",
       "      <th>308</th>\n",
       "      <td>0.048</td>\n",
       "      <td>0.048</td>\n",
       "      <td>I</td>\n",
       "    </tr>\n",
       "    <tr>\n",
       "      <th>309</th>\n",
       "      <td>0.086</td>\n",
       "      <td>0.363</td>\n",
       "      <td>IV</td>\n",
       "    </tr>\n",
       "    <tr>\n",
       "      <th>310</th>\n",
       "      <td>0.116</td>\n",
       "      <td>0.332</td>\n",
       "      <td>III</td>\n",
       "    </tr>\n",
       "    <tr>\n",
       "      <th>311</th>\n",
       "      <td>0.030</td>\n",
       "      <td>0.031</td>\n",
       "      <td>I</td>\n",
       "    </tr>\n",
       "  </tbody>\n",
       "</table>\n",
       "<p>312 rows × 3 columns</p>\n",
       "</div>"
      ],
      "text/plain": [
       "     土壤养分流失度  土壤污染度 土壤等级\n",
       "0      0.235  0.486    V\n",
       "1      0.040  0.041   II\n",
       "2      0.058  0.063   II\n",
       "3      0.116  0.126   II\n",
       "4      0.056  0.058   II\n",
       "..       ...    ...  ...\n",
       "307    0.041  0.044    I\n",
       "308    0.048  0.048    I\n",
       "309    0.086  0.363   IV\n",
       "310    0.116  0.332  III\n",
       "311    0.030  0.031    I\n",
       "\n",
       "[312 rows x 3 columns]"
      ]
     },
     "metadata": {},
     "output_type": "display_data"
    }
   ],
   "source": [
    "### Start Code Here ###\n",
    "# 将土壤等级列的标称型数据转换为数值型数据\n",
    "\n",
    "%matplotlib inline\n",
    "\n",
    "import pandas as pd\n",
    "import numpy as np\n",
    "import matplotlib.pyplot as plt\n",
    "from openpyxl.workbook import Workbook\n",
    "\n",
    "filepath = 'test3.xlsx'\n",
    "\n",
    "data = pd.read_excel(filepath)\n",
    "\n",
    "display(data)\n",
    "\n",
    "data.loc[(data[u'土壤等级']=='I'),u'土壤等级']=1\n",
    "data.loc[(data[u'土壤等级']=='II'),u'土壤等级']=2\n",
    "data.loc[(data[u'土壤等级']=='III'),u'土壤等级']=3\n",
    "data.loc[(data[u'土壤等级']=='IV'),u'土壤等级']=4\n",
    "data.loc[(data[u'土壤等级']=='V'),u'土壤等级']=5\n",
    "data.loc[(data[u'土壤等级']=='VI'),u'土壤等级']=6\n",
    "data.loc[(data[u'土壤等级']=='VII'),u'土壤等级']=7\n",
    "\n",
    "dataT = data.values\n",
    "data.to_excel('data3.xlsx')\n",
    "### End Code Here ###"
   ]
  },
  {
   "cell_type": "markdown",
   "metadata": {},
   "source": [
    "运行后打开data3.xls，可以看到将水质等级列表转换为相应的数值：\n",
    "\n",
    "\n",
    "## 模型构建\n",
    "本实验我们采用C4.5决策树来进行模型构建。并使用交叉验证方法。\n",
    "\n",
    "首先需要对数据进行训练集和测试集的划分，本实验以数据集中的80%的数据为训练集，20%为测试集。在上节中数据的变换时，需要将最后一列转换为int型。\n"
   ]
  },
  {
   "cell_type": "code",
   "execution_count": 4,
   "metadata": {},
   "outputs": [],
   "source": [
    "### Start Code Here ###\n",
    "# 划分训练集和测试集\n",
    "from sklearn.model_selection import train_test_split\n",
    "\n",
    "# 使用train_test_split函数实现数据集的划分\n",
    "train,test,train_target,test_target=train_test_split(dataT[:,:2],dataT[:,2],test_size = 0.2)\n",
    "\n",
    "train_target=train_target.astype(int)\n",
    "test_target=test_target.astype(int)\n",
    "### End Code Here ###"
   ]
  },
  {
   "cell_type": "code",
   "execution_count": 5,
   "metadata": {},
   "outputs": [
    {
     "data": {
      "text/plain": [
       "0.7936507936507936"
      ]
     },
     "metadata": {},
     "output_type": "display_data"
    },
    {
     "data": {
      "text/plain": [
       "0.7936507936507936"
      ]
     },
     "metadata": {},
     "output_type": "display_data"
    },
    {
     "data": {
      "text/plain": [
       "0.8755020080321285"
      ]
     },
     "metadata": {},
     "output_type": "display_data"
    }
   ],
   "source": [
    "# SVC训练 \n",
    "from sklearn import svm\n",
    "model = svm.SVC()\n",
    "model.fit(train, train_target)\n",
    "display(model.score(test, test_target)) #测试模型打分：只有54%\n",
    "\n",
    "#重新调整*100\n",
    "# SVC训练 \n",
    "from sklearn import svm\n",
    "model = svm.SVC()\n",
    "model.fit(train*100, train_target)\n",
    "display(model.score(test*100, test_target))\n",
    "display(model.score(train*100, train_target))"
   ]
  },
  {
   "cell_type": "markdown",
   "metadata": {},
   "source": [
    "接下来，我们开始构建决策树模型，本实验使用sklearn库来实现模型的构建，并将训练结果可视化。\n",
    "\n",
    "在构建模型时，我们使用了python的learning_curve函数，来得到不同大小的训练集，其交叉验证训练和测试的分数。"
   ]
  },
  {
   "cell_type": "code",
   "execution_count": 6,
   "metadata": {},
   "outputs": [
    {
     "name": "stdout",
     "output_type": "stream",
     "text": [
      "ROC AUC Decision Tree:  0.8995983935742973 0.024756682742847286\n",
      "Best Test Score：0.9699\n"
     ]
    },
    {
     "data": {
      "image/png": "[encoded data removed]",
      "text/plain": [
       "<Figure size 640x480 with 1 Axes>"
      ]
     },
     "metadata": {},
     "output_type": "display_data"
    }
   ],
   "source": [
    "### Start Code Here ###\n",
    "#构建决策树模型\n",
    "from sklearn.tree import DecisionTreeClassifier\n",
    "from sklearn.model_selection import cross_val_score\n",
    "\n",
    "#构建决策树模型clf\n",
    "clf = DecisionTreeClassifier(max_depth=5)\n",
    "\n",
    "scores = cross_val_score(clf, train*30, train_target, cv=3) \n",
    "print(\"ROC AUC Decision Tree: \", np.mean(scores), np.std(scores))\n",
    "\n",
    "\n",
    "from sklearn.model_selection import learning_curve\n",
    "\n",
    "\n",
    "def plot_learning_curve(estimator, X, y, ylim=(0, 1.1), cv=3,\n",
    "                        n_jobs=1, train_sizes=np.linspace(.1, 1.0, 5),\n",
    "                        scoring=None):\n",
    "\n",
    "    plt.title(\"%s —learning curve\" % type(estimator).__name__)\n",
    "    plt.ylim(*ylim); plt.grid()\n",
    "    plt.xlabel(\"train set\")\n",
    "    plt.ylabel(\"score\")\n",
    "    train_sizes, train_scores, validation_scores = learning_curve(\n",
    "        estimator, X, y, cv=cv, n_jobs=n_jobs, train_sizes=train_sizes,\n",
    "        scoring=scoring)\n",
    "    train_scores_mean = np.mean(train_scores, axis=1)\n",
    "    validation_scores_mean = np.mean(validation_scores, axis=1)\n",
    "\n",
    "    plt.plot(train_sizes, train_scores_mean, 'o-', color=\"r\",\n",
    "             label=\"trainning score\")\n",
    "    plt.plot(train_sizes, validation_scores_mean, 'o-', color=\"g\",\n",
    "             label=\"valid score\")\n",
    "    plt.legend(loc=\"best\")\n",
    "    print(\"Best Test Score：{:.4f}\".format(train_scores_mean[-1]))\n",
    "\n",
    "plot_learning_curve(clf, train, train_target) \n",
    "\n",
    "#clf.fit(train,train_target)\n",
    "### End Code Here ###\n"
   ]
  },
  {
   "cell_type": "markdown",
   "metadata": {},
   "source": [
    "运行后，可以看到训练集的大小与交叉验证分数成正比.\n",
    "## 模型评价\n",
    "\n",
    "我们计算不同深度训练集和测试集交叉验证得分。通过图表来选取最合适的深度值。"
   ]
  },
  {
   "cell_type": "code",
   "execution_count": 7,
   "metadata": {},
   "outputs": [
    {
     "name": "stdout",
     "output_type": "stream",
     "text": [
      "Best test score: 0.8876\n"
     ]
    },
    {
     "data": {
      "image/png": "[encoded data removed]",
      "text/plain": [
       "<Figure size 640x480 with 1 Axes>"
      ]
     },
     "metadata": {},
     "output_type": "display_data"
    }
   ],
   "source": [
    "### Start Code Here ###\n",
    "\n",
    "from sklearn.model_selection import validation_curve\n",
    "\n",
    "#利用validation_curve计算不同深度训练集和测试集交叉验证得分\n",
    "def plot_validation_curve(estimator, X, y, param_name, param_range,\n",
    "                          ylim=(0, 1.1), cv=3, n_jobs=1, scoring=None):\n",
    "    plt.rcParams['font.sans-serif']=['SimHei']\n",
    "    estimator_name = type(estimator).__name__\n",
    "    plt.title(\" %s valid curve %s \"\n",
    "              % (estimator_name,param_name))\n",
    "    plt.ylim(*ylim); plt.grid()\n",
    "    plt.xlim(min(param_range), max(param_range))\n",
    "    plt.xlabel(param_name)\n",
    "    plt.ylabel(\"score\")\n",
    "\n",
    "    #通过调用validation_curve来计算训练集的得分cores和验证集的得分test_scores\n",
    "    train_scores, test_scores = validation_curve(\n",
    "        estimator, X, y, param_name=param_name, param_range=param_range,\n",
    "        cv=cv, n_jobs=n_jobs, scoring=scoring)\n",
    "    \n",
    "    train_scores_mean = np.mean(train_scores, axis=1)\n",
    "    test_scores_mean = np.mean(test_scores, axis=1)\n",
    "    plt.semilogx(param_range, train_scores_mean, 'o-', color=\"r\",\n",
    "                 label=\"train score\")\n",
    "    plt.semilogx(param_range, test_scores_mean, 'o-', color=\"g\",\n",
    "                 label=\"valid score\")\n",
    "    plt.legend(loc=\"best\")\n",
    "    print(\"Best test score: {:.4f}\".format(test_scores_mean[-1]))\n",
    "\n",
    "clf = DecisionTreeClassifier(max_depth=8)\n",
    "param_name = 'max_depth'\n",
    "param_range = [1, 2, 3, 4, 5, 6,7,8,9,10,11,12,13,14,15]\n",
    "\n",
    "plot_validation_curve(clf, train*30, train_target,\n",
    "                      param_name, param_range)\n",
    "### End Code Here ###"
   ]
  },
  {
   "cell_type": "markdown",
   "metadata": {},
   "source": []
  }
 ],
 "metadata": {
  "kernelspec": {
   "display_name": "Python 3.9.12 64-bit",
   "language": "python",
   "name": "python3"
  },
  "language_info": {
   "codemirror_mode": {
    "name": "ipython",
    "version": 3
   },
   "file_extension": ".py",
   "mimetype": "text/x-python",
   "name": "python",
   "nbconvert_exporter": "python",
   "pygments_lexer": "ipython3",
   "version": "3.9.12"
  },
  "toc": {
   "base_numbering": 1,
   "nav_menu": {},
   "number_sections": true,
   "sideBar": true,
   "skip_h1_title": false,
   "title_cell": "Table of Contents",
   "title_sidebar": "Contents",
   "toc_cell": false,
   "toc_position": {},
   "toc_section_display": true,
   "toc_window_display": false
  },
  "vscode": {
   "interpreter": {
    "hash": "1d968b796faabaeec7e505996f391f9d02eeff0d3bf60a59db5ee5ba43730aa8"
   }
  }
 },
 "nbformat": 4,
 "nbformat_minor": 2
}
