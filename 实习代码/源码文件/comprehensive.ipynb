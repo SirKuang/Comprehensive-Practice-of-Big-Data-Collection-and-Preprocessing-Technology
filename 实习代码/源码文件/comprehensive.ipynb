{
 "cells": [
  {
   "cell_type": "markdown",
   "metadata": {},
   "source": [
    "## 环境综合等级"
   ]
  },
  {
   "cell_type": "code",
   "execution_count": 3,
   "metadata": {},
   "outputs": [
    {
     "name": "stdout",
     "output_type": "stream",
     "text": [
      "Note: you may need to restart the kernel to use updated packages.\n"
     ]
    },
    {
     "name": "stderr",
     "output_type": "stream",
     "text": [
      "WARNING: You are using pip version 22.0.4; however, version 22.3.1 is available.\n",
      "You should consider upgrading via the 'd:\\Python 3.9.12\\python.exe -m pip install --upgrade pip' command.\n"
     ]
    },
    {
     "name": "stdout",
     "output_type": "stream",
     "text": [
      "Looking in indexes: https://pypi.tuna.tsinghua.edu.cn/simple\n",
      "Requirement already satisfied: openpyxl in d:\\python 3.9.12\\lib\\site-packages (3.0.10)\n",
      "Requirement already satisfied: et-xmlfile in d:\\python 3.9.12\\lib\\site-packages (from openpyxl) (1.1.0)\n",
      "Note: you may need to restart the kernel to use updated packages.\n"
     ]
    },
    {
     "name": "stderr",
     "output_type": "stream",
     "text": [
      "WARNING: You are using pip version 22.0.4; however, version 22.3.1 is available.\n",
      "You should consider upgrading via the 'd:\\Python 3.9.12\\python.exe -m pip install --upgrade pip' command.\n"
     ]
    }
   ],
   "source": [
    "%pip install xlwt -q\n",
    "%pip install openpyxl"
   ]
  },
  {
   "cell_type": "code",
   "execution_count": 4,
   "metadata": {},
   "outputs": [],
   "source": [
    "import warnings\n",
    "warnings.filterwarnings(\"ignore\")"
   ]
  },
  {
   "cell_type": "code",
   "execution_count": null,
   "metadata": {},
   "outputs": [],
   "source": [
    "数据预处理"
   ]
  },
  {
   "cell_type": "code",
   "execution_count": 6,
   "metadata": {},
   "outputs": [
    {
     "data": {
      "text/html": [
       "<div>\n",
       "<style scoped>\n",
       "    .dataframe tbody tr th:only-of-type {\n",
       "        vertical-align: middle;\n",
       "    }\n",
       "\n",
       "    .dataframe tbody tr th {\n",
       "        vertical-align: top;\n",
       "    }\n",
       "\n",
       "    .dataframe thead th {\n",
       "        text-align: right;\n",
       "    }\n",
       "</style>\n",
       "<table border=\"1\" class=\"dataframe\">\n",
       "  <thead>\n",
       "    <tr style=\"text-align: right;\">\n",
       "      <th></th>\n",
       "      <th>空气等级</th>\n",
       "      <th>水质等级</th>\n",
       "      <th>土壤等级</th>\n",
       "      <th>环境综合等级</th>\n",
       "    </tr>\n",
       "  </thead>\n",
       "  <tbody>\n",
       "    <tr>\n",
       "      <th>0</th>\n",
       "      <td>II</td>\n",
       "      <td>II</td>\n",
       "      <td>V</td>\n",
       "      <td>III</td>\n",
       "    </tr>\n",
       "    <tr>\n",
       "      <th>1</th>\n",
       "      <td>I</td>\n",
       "      <td>I</td>\n",
       "      <td>II</td>\n",
       "      <td>II</td>\n",
       "    </tr>\n",
       "    <tr>\n",
       "      <th>2</th>\n",
       "      <td>I</td>\n",
       "      <td>VI</td>\n",
       "      <td>II</td>\n",
       "      <td>III</td>\n",
       "    </tr>\n",
       "    <tr>\n",
       "      <th>3</th>\n",
       "      <td>I</td>\n",
       "      <td>I</td>\n",
       "      <td>II</td>\n",
       "      <td>II</td>\n",
       "    </tr>\n",
       "    <tr>\n",
       "      <th>4</th>\n",
       "      <td>I</td>\n",
       "      <td>II</td>\n",
       "      <td>II</td>\n",
       "      <td>II</td>\n",
       "    </tr>\n",
       "    <tr>\n",
       "      <th>...</th>\n",
       "      <td>...</td>\n",
       "      <td>...</td>\n",
       "      <td>...</td>\n",
       "      <td>...</td>\n",
       "    </tr>\n",
       "    <tr>\n",
       "      <th>307</th>\n",
       "      <td>I</td>\n",
       "      <td>I</td>\n",
       "      <td>I</td>\n",
       "      <td>I</td>\n",
       "    </tr>\n",
       "    <tr>\n",
       "      <th>308</th>\n",
       "      <td>I</td>\n",
       "      <td>II</td>\n",
       "      <td>I</td>\n",
       "      <td>II</td>\n",
       "    </tr>\n",
       "    <tr>\n",
       "      <th>309</th>\n",
       "      <td>I</td>\n",
       "      <td>II</td>\n",
       "      <td>IV</td>\n",
       "      <td>III</td>\n",
       "    </tr>\n",
       "    <tr>\n",
       "      <th>310</th>\n",
       "      <td>I</td>\n",
       "      <td>II</td>\n",
       "      <td>III</td>\n",
       "      <td>II</td>\n",
       "    </tr>\n",
       "    <tr>\n",
       "      <th>311</th>\n",
       "      <td>II</td>\n",
       "      <td>II</td>\n",
       "      <td>I</td>\n",
       "      <td>II</td>\n",
       "    </tr>\n",
       "  </tbody>\n",
       "</table>\n",
       "<p>312 rows × 4 columns</p>\n",
       "</div>"
      ],
      "text/plain": [
       "    空气等级 水质等级 土壤等级 环境综合等级\n",
       "0     II   II    V    III\n",
       "1      I    I   II     II\n",
       "2      I   VI   II    III\n",
       "3      I    I   II     II\n",
       "4      I   II   II     II\n",
       "..   ...  ...  ...    ...\n",
       "307    I    I    I      I\n",
       "308    I   II    I     II\n",
       "309    I   II   IV    III\n",
       "310    I   II  III     II\n",
       "311   II   II    I     II\n",
       "\n",
       "[312 rows x 4 columns]"
      ]
     },
     "metadata": {},
     "output_type": "display_data"
    }
   ],
   "source": [
    "### Start Code Here ###\n",
    "# 将各个等级列的标称型数据转换为数值型数据\n",
    "%matplotlib inline\n",
    "\n",
    "import pandas as pd\n",
    "import numpy as np\n",
    "import matplotlib.pyplot as plt\n",
    "from openpyxl.workbook import Workbook\n",
    "\n",
    "filepath = 'test4.xlsx'\n",
    "\n",
    "data = pd.read_excel(filepath)\n",
    "\n",
    "display(data)\n",
    "\n",
    "data.loc[(data[u'水质等级']=='I'),u'水质等级']=1\n",
    "data.loc[(data[u'水质等级']=='II'),u'水质等级']=2\n",
    "data.loc[(data[u'水质等级']=='III'),u'水质等级']=3\n",
    "data.loc[(data[u'水质等级']=='IV'),u'水质等级']=4\n",
    "data.loc[(data[u'水质等级']=='V'),u'水质等级']=5\n",
    "data.loc[(data[u'水质等级']=='VI'),u'水质等级']=6\n",
    "data.loc[(data[u'水质等级']=='VII'),u'水质等级']=7\n",
    "\n",
    "data.loc[(data[u'空气等级']=='I'),u'空气等级']=1\n",
    "data.loc[(data[u'空气等级']=='II'),u'空气等级']=2\n",
    "data.loc[(data[u'空气等级']=='III'),u'空气等级']=3\n",
    "data.loc[(data[u'空气等级']=='IV'),u'空气等级']=4\n",
    "data.loc[(data[u'空气等级']=='V'),u'空气等级']=5\n",
    "data.loc[(data[u'空气等级']=='VI'),u'空气等级']=6\n",
    "data.loc[(data[u'空气等级']=='VII'),u'空气等级']=7\n",
    "\n",
    "data.loc[(data[u'土壤等级']=='I'),u'土壤等级']=1\n",
    "data.loc[(data[u'土壤等级']=='II'),u'土壤等级']=2\n",
    "data.loc[(data[u'土壤等级']=='III'),u'土壤等级']=3\n",
    "data.loc[(data[u'土壤等级']=='IV'),u'土壤等级']=4\n",
    "data.loc[(data[u'土壤等级']=='V'),u'土壤等级']=5\n",
    "data.loc[(data[u'土壤等级']=='VI'),u'土壤等级']=6\n",
    "data.loc[(data[u'土壤等级']=='VII'),u'土壤等级']=7\n",
    "\n",
    "data.loc[(data[u'环境综合等级']=='I'),u'环境综合等级']=1\n",
    "data.loc[(data[u'环境综合等级']=='II'),u'环境综合等级']=2\n",
    "data.loc[(data[u'环境综合等级']=='III'),u'环境综合等级']=3\n",
    "data.loc[(data[u'环境综合等级']=='IV'),u'环境综合等级']=4\n",
    "data.loc[(data[u'环境综合等级']=='V'),u'环境综合等级']=5\n",
    "\n",
    "#data.loc[(data[u'环境综合等级']=='VI'),u'环境综合等级']=6\n",
    "#data.loc[(data[u'环境综合等级']=='VII'),u'环境综合等级']=7\n",
    "\n",
    "dataT = data.values\n",
    "data.to_excel('data4.xlsx')\n",
    "### End Code Here ###"
   ]
  },
  {
   "cell_type": "markdown",
   "metadata": {},
   "source": [
    "运行后打开data4.xlsx，可以看到将水质等级列表转换为相应的数值：\n",
    "\n",
    "\n",
    "## 模型构建\n",
    "本实验我们采用C4.5决策树来进行模型构建。并使用交叉验证方法。\n",
    "\n",
    "首先需要对数据进行训练集和测试集的划分，本实验以数据集中的80%的数据为训练集，20%为测试集。在上节中数据的变换时，需要将最后一列转换为int型。\n"
   ]
  },
  {
   "cell_type": "code",
   "execution_count": 7,
   "metadata": {},
   "outputs": [],
   "source": [
    "### Start Code Here ###\n",
    "\n",
    "# 划分训练集和测试集\n",
    "from sklearn.model_selection import train_test_split\n",
    "\n",
    "# 使用train_test_split函数实现数据集的划分\n",
    "train,test,train_target,test_target=train_test_split(dataT[:,:3],dataT[:,3],test_size = 0.2)\n",
    "\n",
    "train_target=train_target.astype(int)\n",
    "test_target=test_target.astype(int)\n",
    "### End Code Here ###"
   ]
  },
  {
   "cell_type": "code",
   "execution_count": 8,
   "metadata": {},
   "outputs": [
    {
     "data": {
      "text/plain": [
       "0.8571428571428571"
      ]
     },
     "metadata": {},
     "output_type": "display_data"
    },
    {
     "data": {
      "text/plain": [
       "0.8571428571428571"
      ]
     },
     "metadata": {},
     "output_type": "display_data"
    },
    {
     "data": {
      "text/plain": [
       "0.9718875502008032"
      ]
     },
     "metadata": {},
     "output_type": "display_data"
    }
   ],
   "source": [
    "# SVC训练 \n",
    "from sklearn import svm\n",
    "model = svm.SVC()\n",
    "model.fit(train, train_target)\n",
    "display(model.score(test, test_target)) #测试模型打分：只有54%\n",
    "\n",
    "#重新调整*30\n",
    "# SVC训练 \n",
    "from sklearn import svm\n",
    "model = svm.SVC()\n",
    "model.fit(train*30, train_target)\n",
    "display(model.score(test*30, test_target))\n",
    "display(model.score(train*30, train_target))"
   ]
  },
  {
   "cell_type": "markdown",
   "metadata": {},
   "source": [
    "接下来，我们开始构建决策树模型，本实验使用sklearn库来实现模型的构建，并将训练结果可视化。\n",
    "\n",
    "在构建模型时，我们使用了python的learning_curve函数，来得到不同大小的训练集，其交叉验证训练和测试的分数。"
   ]
  },
  {
   "cell_type": "code",
   "execution_count": 9,
   "metadata": {},
   "outputs": [
    {
     "name": "stdout",
     "output_type": "stream",
     "text": [
      "ROC AUC Decision Tree:  0.9317269076305221 0.005679572539651002\n",
      "Best Test Score：1.0000\n"
     ]
    },
    {
     "data": {
      "text/html": [
       "<style>#sk-container-id-1 {color: black;background-color: white;}#sk-container-id-1 pre{padding: 0;}#sk-container-id-1 div.sk-toggleable {background-color: white;}#sk-container-id-1 label.sk-toggleable__label {cursor: pointer;display: block;width: 100%;margin-bottom: 0;padding: 0.3em;box-sizing: border-box;text-align: center;}#sk-container-id-1 label.sk-toggleable__label-arrow:before {content: \"▸\";float: left;margin-right: 0.25em;color: #696969;}#sk-container-id-1 label.sk-toggleable__label-arrow:hover:before {color: black;}#sk-container-id-1 div.sk-estimator:hover label.sk-toggleable__label-arrow:before {color: black;}#sk-container-id-1 div.sk-toggleable__content {max-height: 0;max-width: 0;overflow: hidden;text-align: left;background-color: #f0f8ff;}#sk-container-id-1 div.sk-toggleable__content pre {margin: 0.2em;color: black;border-radius: 0.25em;background-color: #f0f8ff;}#sk-container-id-1 input.sk-toggleable__control:checked~div.sk-toggleable__content {max-height: 200px;max-width: 100%;overflow: auto;}#sk-container-id-1 input.sk-toggleable__control:checked~label.sk-toggleable__label-arrow:before {content: \"▾\";}#sk-container-id-1 div.sk-estimator input.sk-toggleable__control:checked~label.sk-toggleable__label {background-color: #d4ebff;}#sk-container-id-1 div.sk-label input.sk-toggleable__control:checked~label.sk-toggleable__label {background-color: #d4ebff;}#sk-container-id-1 input.sk-hidden--visually {border: 0;clip: rect(1px 1px 1px 1px);clip: rect(1px, 1px, 1px, 1px);height: 1px;margin: -1px;overflow: hidden;padding: 0;position: absolute;width: 1px;}#sk-container-id-1 div.sk-estimator {font-family: monospace;background-color: #f0f8ff;border: 1px dotted black;border-radius: 0.25em;box-sizing: border-box;margin-bottom: 0.5em;}#sk-container-id-1 div.sk-estimator:hover {background-color: #d4ebff;}#sk-container-id-1 div.sk-parallel-item::after {content: \"\";width: 100%;border-bottom: 1px solid gray;flex-grow: 1;}#sk-container-id-1 div.sk-label:hover label.sk-toggleable__label {background-color: #d4ebff;}#sk-container-id-1 div.sk-serial::before {content: \"\";position: absolute;border-left: 1px solid gray;box-sizing: border-box;top: 0;bottom: 0;left: 50%;z-index: 0;}#sk-container-id-1 div.sk-serial {display: flex;flex-direction: column;align-items: center;background-color: white;padding-right: 0.2em;padding-left: 0.2em;position: relative;}#sk-container-id-1 div.sk-item {position: relative;z-index: 1;}#sk-container-id-1 div.sk-parallel {display: flex;align-items: stretch;justify-content: center;background-color: white;position: relative;}#sk-container-id-1 div.sk-item::before, #sk-container-id-1 div.sk-parallel-item::before {content: \"\";position: absolute;border-left: 1px solid gray;box-sizing: border-box;top: 0;bottom: 0;left: 50%;z-index: -1;}#sk-container-id-1 div.sk-parallel-item {display: flex;flex-direction: column;z-index: 1;position: relative;background-color: white;}#sk-container-id-1 div.sk-parallel-item:first-child::after {align-self: flex-end;width: 50%;}#sk-container-id-1 div.sk-parallel-item:last-child::after {align-self: flex-start;width: 50%;}#sk-container-id-1 div.sk-parallel-item:only-child::after {width: 0;}#sk-container-id-1 div.sk-dashed-wrapped {border: 1px dashed gray;margin: 0 0.4em 0.5em 0.4em;box-sizing: border-box;padding-bottom: 0.4em;background-color: white;}#sk-container-id-1 div.sk-label label {font-family: monospace;font-weight: bold;display: inline-block;line-height: 1.2em;}#sk-container-id-1 div.sk-label-container {text-align: center;}#sk-container-id-1 div.sk-container {/* jupyter's `normalize.less` sets `[hidden] { display: none; }` but bootstrap.min.css set `[hidden] { display: none !important; }` so we also need the `!important` here to be able to override the default hidden behavior on the sphinx rendered scikit-learn.org. See: https://github.com/scikit-learn/scikit-learn/issues/21755 */display: inline-block !important;position: relative;}#sk-container-id-1 div.sk-text-repr-fallback {display: none;}</style><div id=\"sk-container-id-1\" class=\"sk-top-container\"><div class=\"sk-text-repr-fallback\"><pre>DecisionTreeClassifier(max_depth=8)</pre><b>In a Jupyter environment, please rerun this cell to show the HTML representation or trust the notebook. <br />On GitHub, the HTML representation is unable to render, please try loading this page with nbviewer.org.</b></div><div class=\"sk-container\" hidden><div class=\"sk-item\"><div class=\"sk-estimator sk-toggleable\"><input class=\"sk-toggleable__control sk-hidden--visually\" id=\"sk-estimator-id-1\" type=\"checkbox\" checked><label for=\"sk-estimator-id-1\" class=\"sk-toggleable__label sk-toggleable__label-arrow\">DecisionTreeClassifier</label><div class=\"sk-toggleable__content\"><pre>DecisionTreeClassifier(max_depth=8)</pre></div></div></div></div></div>"
      ],
      "text/plain": [
       "DecisionTreeClassifier(max_depth=8)"
      ]
     },
     "execution_count": 9,
     "metadata": {},
     "output_type": "execute_result"
    },
    {
     "data": {
      "image/png": "[encoded data removed]",
      "text/plain": [
       "<Figure size 640x480 with 1 Axes>"
      ]
     },
     "metadata": {},
     "output_type": "display_data"
    }
   ],
   "source": [
    "### Start Code Here ###\n",
    "\n",
    "#构建决策树模型\n",
    "from sklearn.tree import DecisionTreeClassifier\n",
    "from sklearn.model_selection import cross_val_score\n",
    "\n",
    "#构建决策树模型clf\n",
    "clf = DecisionTreeClassifier(max_depth=8)\n",
    "\n",
    "scores = cross_val_score(clf, train*30, train_target, cv=3) \n",
    "print(\"ROC AUC Decision Tree: \", np.mean(scores), np.std(scores))\n",
    "\n",
    "\n",
    "from sklearn.model_selection import learning_curve\n",
    "\n",
    "\n",
    "def plot_learning_curve(estimator, X, y, ylim=(0, 1.1), cv=3,\n",
    "                        n_jobs=1, train_sizes=np.linspace(.1, 1.0, 5),\n",
    "                        scoring=None):\n",
    "\n",
    "    plt.title(\"%s —learning curve\" % type(estimator).__name__)\n",
    "    plt.ylim(*ylim); plt.grid()\n",
    "    plt.xlabel(\"train set\")\n",
    "    plt.ylabel(\"score\")\n",
    "    train_sizes, train_scores, validation_scores = learning_curve(\n",
    "        estimator, X, y, cv=cv, n_jobs=n_jobs, train_sizes=train_sizes,\n",
    "        scoring=scoring)\n",
    "    train_scores_mean = np.mean(train_scores, axis=1)\n",
    "    validation_scores_mean = np.mean(validation_scores, axis=1)\n",
    "\n",
    "    plt.plot(train_sizes, train_scores_mean, 'o-', color=\"r\",\n",
    "             label=\"trainning score\")\n",
    "    plt.plot(train_sizes, validation_scores_mean, 'o-', color=\"g\",\n",
    "             label=\"valid score\")\n",
    "    plt.legend(loc=\"best\")\n",
    "    print(\"Best Test Score：{:.4f}\".format(train_scores_mean[-1]))\n",
    "\n",
    "plot_learning_curve(clf, train, train_target) \n",
    "\n",
    "clf.fit(train,train_target)\n",
    "### End Code Here ###"
   ]
  },
  {
   "cell_type": "markdown",
   "metadata": {},
   "source": [
    "运行后，可以看到训练集的大小与交叉验证分数成正比.\n",
    "## 模型评价\n",
    "\n",
    "我们计算不同深度训练集和测试集交叉验证得分。通过图表来选取最合适的深度值。"
   ]
  },
  {
   "cell_type": "code",
   "execution_count": 11,
   "metadata": {},
   "outputs": [
    {
     "name": "stdout",
     "output_type": "stream",
     "text": [
      "Best test score: 0.9277\n"
     ]
    },
    {
     "data": {
      "image/png": "[encoded data removed]",
      "text/plain": [
       "<Figure size 640x480 with 1 Axes>"
      ]
     },
     "metadata": {},
     "output_type": "display_data"
    }
   ],
   "source": [
    "### Start Code Here ###\n",
    "\n",
    "from sklearn.model_selection import validation_curve\n",
    "\n",
    "#利用validation_curve计算不同深度训练集和测试集交叉验证得分\n",
    "def plot_validation_curve(estimator, X, y, param_name, param_range,\n",
    "                          ylim=(0, 1.1), cv=3, n_jobs=1, scoring=None):\n",
    "    plt.rcParams['font.sans-serif']=['SimHei']\n",
    "    estimator_name = type(estimator).__name__\n",
    "    plt.title(\" %s valid curve %s \"\n",
    "              % (estimator_name,param_name))\n",
    "    plt.ylim(*ylim); plt.grid()\n",
    "    plt.xlim(min(param_range), max(param_range))\n",
    "    plt.xlabel(param_name)\n",
    "    plt.ylabel(\"score\")\n",
    "\n",
    "    #通过调用validation_curve来计算训练集的得分cores和验证集的得分test_scores\n",
    "    train_scores, test_scores = validation_curve(\n",
    "        estimator, X, y, param_name=param_name, param_range=param_range,\n",
    "        cv=cv, n_jobs=n_jobs, scoring=scoring)\n",
    "    \n",
    "    train_scores_mean = np.mean(train_scores, axis=1)\n",
    "    test_scores_mean = np.mean(test_scores, axis=1)\n",
    "    plt.semilogx(param_range, train_scores_mean, 'o-', color=\"r\",\n",
    "                 label=\"train score\")\n",
    "    plt.semilogx(param_range, test_scores_mean, 'o-', color=\"g\",\n",
    "                 label=\"valid score\")\n",
    "    plt.legend(loc=\"best\")\n",
    "    print(\"Best test score: {:.4f}\".format(test_scores_mean[-1]))\n",
    "\n",
    "clf = DecisionTreeClassifier(max_depth=8)\n",
    "param_name = 'max_depth'\n",
    "param_range = [1, 2, 3, 4, 5, 6,7,8,9,10,11,12,13,14,15]\n",
    "\n",
    "plot_validation_curve(clf, train*30, train_target,\n",
    "                      param_name, param_range)\n",
    "### End Code Here ###"
   ]
  },
  {
   "cell_type": "markdown",
   "metadata": {},
   "source": []
  }
 ],
 "metadata": {
  "kernelspec": {
   "display_name": "Python 3.9.12 64-bit",
   "language": "python",
   "name": "python3"
  },
  "language_info": {
   "codemirror_mode": {
    "name": "ipython",
    "version": 3
   },
   "file_extension": ".py",
   "mimetype": "text/x-python",
   "name": "python",
   "nbconvert_exporter": "python",
   "pygments_lexer": "ipython3",
   "version": "3.9.12"
  },
  "toc": {
   "base_numbering": 1,
   "nav_menu": {},
   "number_sections": true,
   "sideBar": true,
   "skip_h1_title": false,
   "title_cell": "Table of Contents",
   "title_sidebar": "Contents",
   "toc_cell": false,
   "toc_position": {},
   "toc_section_display": true,
   "toc_window_display": false
  },
  "vscode": {
   "interpreter": {
    "hash": "1d968b796faabaeec7e505996f391f9d02eeff0d3bf60a59db5ee5ba43730aa8"
   }
  }
 },
 "nbformat": 4,
 "nbformat_minor": 2
}
